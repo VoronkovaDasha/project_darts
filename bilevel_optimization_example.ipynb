{
 "cells": [
  {
   "cell_type": "code",
   "execution_count": 1,
   "id": "1c9c6161",
   "metadata": {},
   "outputs": [],
   "source": [
    "import torch\n",
    "import torch.nn as nn\n",
    "from tqdm import tqdm"
   ]
  },
  {
   "cell_type": "code",
   "execution_count": 2,
   "id": "1615cf39",
   "metadata": {},
   "outputs": [
    {
     "name": "stdout",
     "output_type": "stream",
     "text": [
      "Populating the interactive namespace from numpy and matplotlib\n"
     ]
    }
   ],
   "source": [
    "%pylab inline"
   ]
  },
  {
   "cell_type": "code",
   "execution_count": 3,
   "id": "04e50f42",
   "metadata": {},
   "outputs": [],
   "source": [
    "def L_train(w, alpha):\n",
    "    L = w ** 2 - 2 * alpha * w + alpha ** 2\n",
    "    return L"
   ]
  },
  {
   "cell_type": "code",
   "execution_count": 4,
   "id": "8227be9f",
   "metadata": {},
   "outputs": [],
   "source": [
    "def L_val(w, alpha):\n",
    "    L = alpha * w - 2 * alpha + 1\n",
    "    return L"
   ]
  },
  {
   "cell_type": "code",
   "execution_count": 5,
   "id": "a790095d",
   "metadata": {},
   "outputs": [],
   "source": [
    "def optimize_alpha(w, alpha, optim_w, optim_alpha, xi):\n",
    "    # zero grads\n",
    "    optim_alpha.zero_grad()\n",
    "    optim_w.zero_grad()\n",
    "    \n",
    "    if xi > 0:\n",
    "        # compute w_prime\n",
    "        L_train_w_alpha = L_train(w, alpha)\n",
    "        L_train_w_alpha.backward()\n",
    "        grad_w_L_train_w_alpha = w.grad.detach().clone()\n",
    "        w_prime = w - xi * grad_w_L_train_w_alpha\n",
    "        w_prime.retain_grad()\n",
    "    else:\n",
    "        w_prime = w.detach().clone()\n",
    "    \n",
    "    # compute grad_alpha_L_val_w_prime_alpha\n",
    "    L_val_w_prime_alpha = L_val(w_prime, alpha)\n",
    "    optim_alpha.zero_grad()\n",
    "    L_val_w_prime_alpha.backward()\n",
    "    grad_alpha_L_val_w_prime_alpha = alpha.grad.detach().clone()\n",
    "    \n",
    "    if xi > 0:\n",
    "        # compute w_plus, w_minus\n",
    "        eps = 0.01 / torch.norm(w_prime.grad, p=2).item()\n",
    "        w_plus = w + eps * w_prime.grad\n",
    "        w_minus = w - eps * w_prime.grad\n",
    "    \n",
    "        # compute finite-difference grad approximation\n",
    "        L_train_w_plus_alpha = L_train(w_plus, alpha)\n",
    "        L_train_w_minus_alpha = L_train(w_minus, alpha)\n",
    "        L_diff = L_train_w_plus_alpha - L_train_w_minus_alpha\n",
    "        optim_alpha.zero_grad()\n",
    "        L_diff.backward()\n",
    "        grad_finite_diff = alpha.grad.detach().clone() / 2 / eps\n",
    "    \n",
    "        grad_alpha = grad_alpha_L_val_w_prime_alpha - xi * grad_finite_diff\n",
    "    else:\n",
    "        grad_alpha = grad_alpha_L_val_w_prime_alpha\n",
    "        \n",
    "    optim_alpha.zero_grad()\n",
    "    alpha.grad = grad_alpha\n",
    "    optim_alpha.step()"
   ]
  },
  {
   "cell_type": "code",
   "execution_count": 6,
   "id": "b8adac85",
   "metadata": {},
   "outputs": [],
   "source": [
    "def train(num_iter, xi, thr, lr):\n",
    "    alpha = nn.Parameter(data=torch.Tensor([2]), requires_grad=True)\n",
    "    w = nn.Parameter(data=torch.Tensor([-2]), requires_grad=True)\n",
    "    \n",
    "    optim_alpha = torch.optim.SGD([alpha], lr=lr)\n",
    "    optim_w = torch.optim.SGD([w], lr=lr)\n",
    "    \n",
    "    alpha_history = [alpha.item()]\n",
    "    w_history = [w.item()]\n",
    "    \n",
    "    alpha_prev, w_prev = None, None\n",
    "    \n",
    "    for i in tqdm(range(num_iter)):\n",
    "        if i > 0 and torch.abs(alpha - alpha_prev) < thr and torch.abs(w - w_prev) < thr:\n",
    "            break\n",
    "        alpha_prev = alpha.clone()\n",
    "        w_prev = w.clone()\n",
    "\n",
    "        # alpha update\n",
    "        optimize_alpha(w=w, alpha=alpha, optim_w=optim_w, optim_alpha=optim_alpha, xi=xi)\n",
    "\n",
    "        # update w\n",
    "        L_train_w_alpha = L_train(w, alpha)\n",
    "        optim_w.zero_grad()\n",
    "        L_train_w_alpha.backward()\n",
    "        optim_w.step()\n",
    "\n",
    "        alpha_history.append(alpha.item())\n",
    "        w_history.append(w.item())\n",
    "        \n",
    "    return alpha_history, w_history"
   ]
  },
  {
   "cell_type": "code",
   "execution_count": 7,
   "id": "f709eb9f",
   "metadata": {},
   "outputs": [
    {
     "data": {
      "text/plain": [
       "(tensor([1.]), tensor([1.]))"
      ]
     },
     "execution_count": 7,
     "metadata": {},
     "output_type": "execute_result"
    }
   ],
   "source": [
    "alpha_star = torch.Tensor([1])\n",
    "w_star = torch.Tensor([1])\n",
    "alpha_star, w_star"
   ]
  },
  {
   "cell_type": "code",
   "execution_count": 8,
   "id": "76cd2be7",
   "metadata": {},
   "outputs": [
    {
     "name": "stderr",
     "output_type": "stream",
     "text": [
      "  7%|▋         | 659/10000 [00:00<00:03, 2434.09it/s]\n"
     ]
    }
   ],
   "source": [
    "alpha_history_0, w_history_0 = train(num_iter=10000, xi=0, thr=1e-4, lr=1e-2)"
   ]
  },
  {
   "cell_type": "code",
   "execution_count": 9,
   "id": "d57405a4",
   "metadata": {},
   "outputs": [
    {
     "name": "stderr",
     "output_type": "stream",
     "text": [
      "  4%|▍         | 411/10000 [00:00<00:08, 1113.76it/s]\n"
     ]
    }
   ],
   "source": [
    "alpha_history_03, w_history_03 = train(num_iter=10000, xi=0.3, thr=1e-4, lr=1e-2)"
   ]
  },
  {
   "cell_type": "code",
   "execution_count": 10,
   "id": "d1e75f97",
   "metadata": {},
   "outputs": [
    {
     "name": "stderr",
     "output_type": "stream",
     "text": [
      "  3%|▎         | 296/10000 [00:00<00:08, 1138.00it/s]\n"
     ]
    }
   ],
   "source": [
    "alpha_history_05, w_history_05 = train(num_iter=10000, xi=0.5, thr=1e-4, lr=1e-2)"
   ]
  },
  {
   "cell_type": "code",
   "execution_count": 11,
   "id": "d16a13bd",
   "metadata": {},
   "outputs": [
    {
     "name": "stderr",
     "output_type": "stream",
     "text": [
      "  3%|▎         | 335/10000 [00:00<00:08, 1108.85it/s]\n"
     ]
    }
   ],
   "source": [
    "alpha_history_07, w_history_07 = train(num_iter=10000, xi=0.7, thr=1e-4, lr=1e-2)"
   ]
  },
  {
   "cell_type": "code",
   "execution_count": 12,
   "id": "d2476db8",
   "metadata": {},
   "outputs": [
    {
     "data": {
      "text/plain": [
       "(array([-3., -2., -1.,  0.,  1.,  2.,  3.,  4.]),\n",
       " [Text(0, 0, ''),\n",
       "  Text(0, 0, ''),\n",
       "  Text(0, 0, ''),\n",
       "  Text(0, 0, ''),\n",
       "  Text(0, 0, ''),\n",
       "  Text(0, 0, ''),\n",
       "  Text(0, 0, ''),\n",
       "  Text(0, 0, '')])"
      ]
     },
     "execution_count": 12,
     "metadata": {},
     "output_type": "execute_result"
    },
    {
     "data": {
      "image/png": "[encoded data removed]",
      "text/plain": [
       "<Figure size 936x720 with 1 Axes>"
      ]
     },
     "metadata": {
      "needs_background": "light"
     },
     "output_type": "display_data"
    }
   ],
   "source": [
    "figsize(13, 10)\n",
    "\n",
    "x = np.linspace(-5, 5, 100)\n",
    "y = x\n",
    "plot(x, y, '--', c='red', label='feasible set')\n",
    "\n",
    "scatter(alpha_history_0, w_history_0, label='$\\\\xi$ = 0',)\n",
    "scatter(alpha_history_03, w_history_03, label='$\\\\xi$ = 0.3')\n",
    "scatter(alpha_history_05, w_history_05, label='$\\\\xi$ = 0.5')\n",
    "scatter(alpha_history_07, w_history_07, label='$\\\\xi$ = 0.7')\n",
    "\n",
    "scatter(alpha_star.item(), w_star.item(), marker='*', c='black', s=300, label='optimal value')\n",
    "scatter(2, -2, c='grey', s=300, label='initialization', marker='*',)\n",
    "\n",
    "grid()\n",
    "legend(fontsize=15)\n",
    "xlim(0.5, 3.5)\n",
    "ylim(-2.5, 3.5)\n",
    "\n",
    "xlabel('Architecture ($\\\\alpha$)', fontsize=20)\n",
    "ylabel('Weights (w)', fontsize=20)\n",
    "\n",
    "xticks(size=15)\n",
    "yticks(size=15)"
   ]
  },
  {
   "cell_type": "markdown",
   "id": "199cc207",
   "metadata": {},
   "source": [
    "Time estimate"
   ]
  },
  {
   "cell_type": "code",
   "execution_count": 18,
   "id": "5abac536",
   "metadata": {},
   "outputs": [],
   "source": [
    "from time import time"
   ]
  },
  {
   "cell_type": "code",
   "execution_count": 44,
   "id": "8f0ad8d8",
   "metadata": {
    "scrolled": true
   },
   "outputs": [
    {
     "name": "stderr",
     "output_type": "stream",
     "text": [
      "  7%|▋         | 659/10000 [00:00<00:04, 2333.51it/s]\n"
     ]
    },
    {
     "data": {
      "text/plain": [
       "0.0004398406727722816"
      ]
     },
     "execution_count": 44,
     "metadata": {},
     "output_type": "execute_result"
    }
   ],
   "source": [
    "start_time = time()\n",
    "out1, out2 = train(num_iter=10000, xi=0, thr=1e-4, lr=1e-2)\n",
    "end_time = time()\n",
    "(end_time - start_time) / (len(out1) - 1)"
   ]
  },
  {
   "cell_type": "code",
   "execution_count": 45,
   "id": "10d4aa86",
   "metadata": {},
   "outputs": [
    {
     "name": "stderr",
     "output_type": "stream",
     "text": [
      "  4%|▍         | 411/10000 [00:00<00:08, 1127.60it/s]\n"
     ]
    },
    {
     "data": {
      "text/plain": [
       "0.0008968616634099733"
      ]
     },
     "execution_count": 45,
     "metadata": {},
     "output_type": "execute_result"
    }
   ],
   "source": [
    "start_time = time()\n",
    "out1, out2 = train(num_iter=10000, xi=0.3, thr=1e-4, lr=1e-2)\n",
    "end_time = time()\n",
    "(end_time - start_time) / (len(out1) - 1)"
   ]
  },
  {
   "cell_type": "code",
   "execution_count": 46,
   "id": "73a5f411",
   "metadata": {},
   "outputs": [
    {
     "name": "stderr",
     "output_type": "stream",
     "text": [
      "  3%|▎         | 296/10000 [00:00<00:08, 1115.34it/s]\n"
     ]
    },
    {
     "data": {
      "text/plain": [
       "0.0009098785954552728"
      ]
     },
     "execution_count": 46,
     "metadata": {},
     "output_type": "execute_result"
    }
   ],
   "source": [
    "start_time = time()\n",
    "out1, out2 = train(num_iter=10000, xi=0.5, thr=1e-4, lr=1e-2)\n",
    "end_time = time()\n",
    "(end_time - start_time) / (len(out1) - 1)"
   ]
  },
  {
   "cell_type": "code",
   "execution_count": 47,
   "id": "51d0d77b",
   "metadata": {},
   "outputs": [
    {
     "name": "stderr",
     "output_type": "stream",
     "text": [
      "  3%|▎         | 335/10000 [00:00<00:08, 1134.69it/s]\n"
     ]
    },
    {
     "data": {
      "text/plain": [
       "0.0009311583504747989"
      ]
     },
     "execution_count": 47,
     "metadata": {},
     "output_type": "execute_result"
    }
   ],
   "source": [
    "start_time = time()\n",
    "out1, out2 = train(num_iter=10000, xi=0.7, thr=1e-4, lr=1e-2)\n",
    "end_time = time()\n",
    "(end_time - start_time) / (len(out1) - 1)"
   ]
  },
  {
   "cell_type": "code",
   "execution_count": null,
   "id": "2e212154",
   "metadata": {},
   "outputs": [],
   "source": []
  }
 ],
 "metadata": {
  "kernelspec": {
   "display_name": "Python 3",
   "language": "python",
   "name": "python3"
  },
  "language_info": {
   "codemirror_mode": {
    "name": "ipython",
    "version": 3
   },
   "file_extension": ".py",
   "mimetype": "text/x-python",
   "name": "python",
   "nbconvert_exporter": "python",
   "pygments_lexer": "ipython3",
   "version": "3.6.10"
  }
 },
 "nbformat": 4,
 "nbformat_minor": 5
}
